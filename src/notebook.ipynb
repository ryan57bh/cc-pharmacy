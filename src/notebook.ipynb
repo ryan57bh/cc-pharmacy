{
 "cells": [
  {
   "cell_type": "markdown",
   "metadata": {},
   "source": [
    "```   ├── README.md \n",
    "    ├── run.sh\n",
    "    ├── src\n",
    "    │   └── pharmacy-counting.py\n",
    "    ├── input\n",
    "    │   └── itcont.txt\n",
    "    ├── output\n",
    "    |   └── top_cost_drug.txt\n",
    "    ├── insight_testsuite\n",
    "        └── run_tests.sh\n",
    "        └── tests\n",
    "            └── test_1\n",
    "            |   ├── input\n",
    "            |   │   └── itcont.txt\n",
    "            |   |__ output\n",
    "            |   │   └── top_cost_drug.txt\n",
    "            ├── your-own-test_1\n",
    "                ├── input\n",
    "                │   └── your-own-input-for-itcont.txt\n",
    "                |── output\n",
    "                    └── top_cost_drug.txt\n",
    "```"
   ]
  },
  {
   "cell_type": "markdown",
   "metadata": {},
   "source": [
    "Imagine you are a data engineer working for an online pharmacy. You are asked to generate **a list of all drugs**, the **total number of UNIQUE individuals** who prescribed the medication, and the **total drug cost**, which must be listed in **descending** order based on the total drug cost and if there is a tie, **drug name in ascending order**. \n",
    "\n",
    "Your program needs to create the output file, `top_cost_drug.txt`, that contains comma (`,`) separated fields in each line.\n",
    "\n",
    "Each line of this file should contain these fields:\n",
    "* drug_name: the exact drug name as shown in the input dataset\n",
    "* num_prescriber: the number of unique prescribers who prescribed the drug. For the purposes of this challenge, a prescriber is considered the same person if two lines share the same prescriber first and last names\n",
    "* total_cost: total cost of the drug across all prescribers\n",
    "\n",
    "For example\n",
    "\n",
    "If your input data, **`itcont.txt`**, is\n",
    "```\n",
    "id,prescriber_last_name,prescriber_first_name,drug_name,drug_cost\n",
    "1000000001,Smith,James,AMBIEN,100\n",
    "1000000002,Garcia,Maria,AMBIEN,200\n",
    "1000000003,Johnson,James,CHLORPROMAZINE,1000\n",
    "1000000004,Rodriguez,Maria,CHLORPROMAZINE,2000\n",
    "1000000005,Smith,David,BENZTROPINE MESYLATE,1500\n",
    "```\n",
    "\n",
    "then your output file, **`top_cost_drug.txt`**, would contain the following lines\n",
    "```\n",
    "drug_name,num_prescriber,total_cost\n",
    "CHLORPROMAZINE,2,3000\n",
    "BENZTROPINE MESYLATE,1,1500\n",
    "AMBIEN,2,300\n",
    "```\n",
    "\n",
    "These files are provided in the `insight_testsuite/tests/test_1/input` and `insight_testsuite/tests/test_1/output` folders, respectively.\n",
    "\n"
   ]
  },
  {
   "cell_type": "code",
   "execution_count": null,
   "metadata": {},
   "outputs": [],
   "source": [
    "import os \n",
    "path = !pwd\n",
    "input_path = os.path.join(path, \"itcont.txt\")\n",
    "output_path = os.path.join(path, \"top_cost_drug.txt\")"
   ]
  },
  {
   "cell_type": "code",
   "execution_count": 28,
   "metadata": {},
   "outputs": [],
   "source": [
    "def pharm_count(input): \n",
    "    \n",
    "    #process the txt data to proper format\n",
    "    with open(input,'r') as f: \n",
    "        data = f.readlines()\n",
    "    \n",
    "    #ignore the header\n",
    "    data = data[1:]\n",
    "    \n",
    "    #count unique patients \n",
    "    dict_name = process_name(data)\n",
    "    \n",
    "    #count cost \n",
    "    dict_cost = process_cost(data)\n",
    "    \n",
    "    #merge two dictionary. drug_name: [patient, cost]\n",
    "    dict_name_cost = {}\n",
    "    for k, v in dict_name.items(): \n",
    "        dict_name_cost.setdefault(k, [v]).append(dict_cost[k])\n",
    "    \n",
    "    #sort the merged dictionary by total cost and name \n",
    "    sorted_by_value = sorted(dict_name_cost.items(), key=lambda x: x[1][1], reverse = True)\n",
    "    \n",
    "    #generate an output file \n",
    "    output = open(output_path, \"w\")\n",
    "    output.write('drug_name,num_prescriber,total_cost' + '\\n')\n",
    "    for k, v in sorted_by_value.items():\n",
    "        output.write(str(k) + ','+ str(v[0]) + ',' + str(v[1]) + '\\n')\n",
    "    output.close()"
   ]
  },
  {
   "cell_type": "code",
   "execution_count": 29,
   "metadata": {},
   "outputs": [],
   "source": [
    "def process_name(data): \n",
    "    '''\n",
    "    read in text file linewise\n",
    "    capture the drug name\n",
    "    create a dictionary that counts the appearace of \n",
    "    \n",
    "    example:\n",
    "    1000000001,Smith,James,AMBIEN,100\n",
    "    1000000002,Garcia,Maria,AMBIEN,200\n",
    "    1000000003,Garcia,Maria,AMBIEN,100\n",
    "    as\n",
    "    name_list={AMBIEN: [James-Smith, Maria-Garcia, Maria-Garcia]} \n",
    "    name_count={AMBIEN: 2} \n",
    "    \n",
    "    '''  \n",
    "    drug = {}\n",
    "    \n",
    "    for line in data: \n",
    "        id, last, first, drug_name, cost = line.split(',')\n",
    "        patient_name = first + \"-\" + last\n",
    "        drug.setdefault(drug_name, []).append(patient_name)  \n",
    "        \n",
    "    for k, v in drug.items(): \n",
    "        drug[k] = len(set(v))\n",
    "    \n",
    "    return drug"
   ]
  },
  {
   "cell_type": "code",
   "execution_count": 30,
   "metadata": {},
   "outputs": [],
   "source": [
    "def process_cost(data): \n",
    "    '''\n",
    "    read in text file linewise\n",
    "    capture the drug name\n",
    "    create a dictionary that counts the appearace of \n",
    "    \n",
    "    example:\n",
    "    1000000001,Smith,James,AMBIEN,100\n",
    "    1000000002,Garcia,Maria,AMBIEN,200\n",
    "    1000000003,Garcia,Maria,AMBIEN,100\n",
    "    as\n",
    "    drug = {AMBIEN: 400}\n",
    "    \n",
    "    '''  \n",
    "    drug = {}\n",
    "    for line in data: \n",
    "        *_, drug_name, cost = line.split(',')\n",
    "        cost_num = int(cost)\n",
    "        drug[drug_name] = drug.get(drug_name, 0) + cost_num\n",
    "  \n",
    "    return drug"
   ]
  },
  {
   "cell_type": "code",
   "execution_count": 27,
   "metadata": {},
   "outputs": [
    {
     "data": {
      "text/plain": [
       "[('A', [2, 20]), ('C', [3, 20]), ('B', [1, 10]), ('D', [10, 10])]"
      ]
     },
     "execution_count": 27,
     "metadata": {},
     "output_type": "execute_result"
    }
   ],
   "source": [
    "# simple test for \n",
    "#test_data = ['1000000001,Smith,James,AMBIEN,100', \n",
    "#             '1000000002,Garcia,Maria,AMBIEN,200',\n",
    "#             '1000000003,Garcia,Maria,AMBIEN,100']\n",
    "#process_cost(test_data)\n",
    "\n",
    "#test_data = ['1000000001,Smith,James,AMBIEN,100', \n",
    "#             '1000000002,Garcia,Maria,AMBIEN,200',\n",
    "#             '1000000003,Garcia,Maria,AMBIEN,100']\n",
    "#process_name(test_data)\n",
    "\n",
    "#dict_name= {'A': 2, 'B':1, 'C':3, 'D': 10}\n",
    "#dict_cost= {'A': 20, 'B':10, 'C': 20, 'D':10}\n",
    "#dict_name_cost = {}\n",
    "#for k, v in dict_name.items(): \n",
    "#    dict_name_cost.setdefault(k, [v]).append(dict_cost[k])\n",
    "#    \n",
    "#sorted_by_value = sorted(dict_name_cost.items(), key=lambda x: x[1][1], reverse = True)\n",
    "#sorted_by_value\n",
    "#\n",
    "#output = open(output_path, \"w\")\n",
    "#    output.write('drug_name,num_prescriber,total_cost' + '\\n')\n",
    "#    for k, v in sorted_by_value.items():\n",
    "#        output.write(str(k) + ','+ str(v[0]) + ',' + str(v[1]) + '\\n')\n",
    "#    output.close()"
   ]
  }
 ],
 "metadata": {
  "kernelspec": {
   "display_name": "Python [conda root]",
   "language": "python",
   "name": "conda-root-py"
  },
  "language_info": {
   "codemirror_mode": {
    "name": "ipython",
    "version": 3
   },
   "file_extension": ".py",
   "mimetype": "text/x-python",
   "name": "python",
   "nbconvert_exporter": "python",
   "pygments_lexer": "ipython3",
   "version": "3.6.7"
  }
 },
 "nbformat": 4,
 "nbformat_minor": 2
}
